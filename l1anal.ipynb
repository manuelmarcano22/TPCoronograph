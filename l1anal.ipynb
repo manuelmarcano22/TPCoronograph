{
 "cells": [
  {
   "cell_type": "code",
   "execution_count": 2,
   "metadata": {
    "collapsed": false
   },
   "outputs": [
    {
     "name": "stderr",
     "output_type": "stream",
     "text": [
      "/usr/local/lib/python2.7/dist-packages/ipython-4.0.3-py2.7.egg/IPython/kernel/__init__.py:13: ShimWarning: The `IPython.kernel` package has been deprecated. You should import from ipykernel or jupyter_client instead.\n",
      "  \"You should import from ipykernel or jupyter_client instead.\", ShimWarning)\n"
     ]
    }
   ],
   "source": [
    "import numpy as np\n",
    "import matplotlib\n",
    "import matplotlib.pyplot as plt\n",
    "from astropy.io import fits\n",
    "from scipy.optimize import curve_fit\n",
    "%matplotlib inline"
   ]
  },
  {
   "cell_type": "markdown",
   "metadata": {},
   "source": [
    "# Flattening"
   ]
  },
  {
   "cell_type": "code",
   "execution_count": 3,
   "metadata": {
    "collapsed": false
   },
   "outputs": [
    {
     "ename": "MemoryError",
     "evalue": "",
     "output_type": "error",
     "traceback": [
      "\u001b[1;31m---------------------------------------------------------------------------\u001b[0m",
      "\u001b[1;31mMemoryError\u001b[0m                               Traceback (most recent call last)",
      "\u001b[1;32m<ipython-input-3-863fbfebcab4>\u001b[0m in \u001b[0;36m<module>\u001b[1;34m()\u001b[0m\n\u001b[0;32m      4\u001b[0m \u001b[0mdarksimages\u001b[0m \u001b[1;33m=\u001b[0m \u001b[1;33m[\u001b[0m\u001b[0mfits\u001b[0m\u001b[1;33m.\u001b[0m\u001b[0mgetdata\u001b[0m\u001b[1;33m(\u001b[0m\u001b[0mf\u001b[0m\u001b[1;33m)\u001b[0m \u001b[1;32mfor\u001b[0m \u001b[0mf\u001b[0m \u001b[1;32min\u001b[0m \u001b[0mdarks\u001b[0m\u001b[1;33m]\u001b[0m\u001b[1;33m\u001b[0m\u001b[0m\n\u001b[0;32m      5\u001b[0m \u001b[0mdarksmedia\u001b[0m \u001b[1;33m=\u001b[0m \u001b[0mnp\u001b[0m\u001b[1;33m.\u001b[0m\u001b[0mmedian\u001b[0m\u001b[1;33m(\u001b[0m\u001b[0mdarksimages\u001b[0m\u001b[1;33m,\u001b[0m \u001b[0maxis\u001b[0m\u001b[1;33m=\u001b[0m\u001b[1;36m0\u001b[0m\u001b[1;33m)\u001b[0m\u001b[1;33m\u001b[0m\u001b[0m\n\u001b[1;32m----> 6\u001b[1;33m \u001b[0mflatteddatal1\u001b[0m \u001b[1;33m=\u001b[0m \u001b[0mallimagedata\u001b[0m \u001b[1;33m-\u001b[0m \u001b[0mdarksmedia\u001b[0m\u001b[1;33m\u001b[0m\u001b[0m\n\u001b[0m",
      "\u001b[1;31mMemoryError\u001b[0m: "
     ]
    }
   ],
   "source": [
    "files= np.loadtxt('l1data.txt', dtype='str')\n",
    "darks = np.loadtxt('darksl1.txt', dtype='str')\n",
    "allimagedata = [fits.getdata(f) for f in files]\n",
    "darksimages = [fits.getdata(f) for f in darks]\n",
    "darksmedia = np.median(darksimages, axis=0)\n",
    "flatteddatal1 = allimagedata - darksmedia"
   ]
  },
  {
   "cell_type": "markdown",
   "metadata": {
    "collapsed": true
   },
   "source": [
    "We plot an example one"
   ]
  },
  {
   "cell_type": "code",
   "execution_count": null,
   "metadata": {
    "collapsed": false
   },
   "outputs": [],
   "source": [
    "plt.imshow(flatteddatal1[0],cmap='afmhot')\n",
    "plt.colorbar()"
   ]
  },
  {
   "cell_type": "code",
   "execution_count": null,
   "metadata": {
    "collapsed": false
   },
   "outputs": [],
   "source": [
    "plt.imshow(allimagedata[0],cmap='afmhot')"
   ]
  },
  {
   "cell_type": "markdown",
   "metadata": {},
   "source": [
    "We can make a fit file with the new flatten data. "
   ]
  },
  {
   "cell_type": "code",
   "execution_count": null,
   "metadata": {
    "collapsed": false
   },
   "outputs": [],
   "source": [
    "#for i in range(109):\n",
    "#    fits.writeto(files[i]+'processed',flatteddatal1[i],header=fits.open(files[i])[0].header)\n",
    "#onefit=fits.getdata('imoa_06563_l1_20160126_12284100_b1.ftsprocessed')\n",
    "#headerone=fits.open('imoa_06563_l1_20160126_12284100_b1.ftsprocessed')[0].header\n",
    "#plt.imshow(onefit,cmap='afmhot')\n",
    "#plt.colorbar()\n",
    "#headerone"
   ]
  },
  {
   "cell_type": "markdown",
   "metadata": {},
   "source": [
    "# Brillance\n",
    "\n",
    "We create the median of all the flatted data."
   ]
  },
  {
   "cell_type": "code",
   "execution_count": null,
   "metadata": {
    "collapsed": false
   },
   "outputs": [],
   "source": [
    "medianflattedl1 = np.median(flatteddatal1, axis=0)\n",
    "plt.imshow(medianflattedl1,cmap='afmhot')"
   ]
  },
  {
   "cell_type": "markdown",
   "metadata": {},
   "source": [
    "We can now mask to get only the disk of the Sun. For l1 we decide a threshold of 900 *adu*. We create the mask and put to zero all below 900. The mask looks like"
   ]
  },
  {
   "cell_type": "code",
   "execution_count": null,
   "metadata": {
    "collapsed": false
   },
   "outputs": [],
   "source": [
    "maskvalue = 1000\n",
    "maskl1 = medianflattedl1 < maskvalue\n",
    "maskedl1=(np.where(maskl1,1,0))*medianflattedl1\n",
    "plt.figure(num=None, figsize=(10, 9))\n",
    "plt.imshow(maskedl1,cmap='afmhot')"
   ]
  },
  {
   "cell_type": "markdown",
   "metadata": {
    "collapsed": true
   },
   "source": [
    "The resulting masked image looks like:"
   ]
  },
  {
   "cell_type": "code",
   "execution_count": null,
   "metadata": {
    "collapsed": false
   },
   "outputs": [],
   "source": [
    "maskl1 = medianflattedl1 < maskvalue\n",
    "maskedl1=(np.where(maskl1,0,1))*medianflattedl1\n",
    "plt.imshow(maskedl1,cmap='afmhot')"
   ]
  },
  {
   "cell_type": "markdown",
   "metadata": {},
   "source": [
    "Now we calculate the total of the masked image to get the luminosity of the Sun:\n",
    "    "
   ]
  },
  {
   "cell_type": "code",
   "execution_count": null,
   "metadata": {
    "collapsed": false
   },
   "outputs": [],
   "source": [
    "totall1 = np.sum(maskedl1)\n",
    "print(totall1)"
   ]
  },
  {
   "cell_type": "markdown",
   "metadata": {
    "collapsed": true
   },
   "source": [
    "# Brillance Calibration\n",
    "\n",
    "Above we have found the total luminosity in $H\\alpha$ from the Sun disk. We know that the total luminosity of the Sun in $H\\alpha$ should be 1.59 W/m/nm. With this we can calibrate each pixel."
   ]
  },
  {
   "cell_type": "code",
   "execution_count": null,
   "metadata": {
    "collapsed": false
   },
   "outputs": [],
   "source": [
    "call1 = 1.59/totall1\n",
    "maskedl1 = maskedl1 * call1\n",
    "call1=call1 * flatteddatal1"
   ]
  },
  {
   "cell_type": "markdown",
   "metadata": {},
   "source": [
    "We can plot one to verify:"
   ]
  },
  {
   "cell_type": "code",
   "execution_count": null,
   "metadata": {
    "collapsed": false
   },
   "outputs": [],
   "source": [
    "plt.figure(num=None, figsize=(10, 9))\n",
    "plt.imshow(call1[0],cmap='afmhot')\n",
    "plt.colorbar()"
   ]
  },
  {
   "cell_type": "markdown",
   "metadata": {
    "collapsed": true
   },
   "source": [
    "## Limb Darkening\n",
    "\n",
    "The first order expression of Limb Darkening is:\n",
    "\n",
    "$$\\frac{I(\\phi)}{I(0)}= 1+ A_1 \\, (1- \\cos(\\phi))$$\n",
    "\n",
    "where $\\phi$ represents the angle. "
   ]
  },
  {
   "cell_type": "markdown",
   "metadata": {},
   "source": [
    "We can see this in our dataset by plotting the values of the intensity of the Sun for a given x value. We select 900. We use the masked image where everything outside the Sun is 0. We express the index as a function of the angle from -90 to 90 degrees. "
   ]
  },
  {
   "cell_type": "code",
   "execution_count": null,
   "metadata": {
    "collapsed": false
   },
   "outputs": [],
   "source": [
    "sunmask = maskedl1[900]  != 0\n",
    "sundiskmaksedl1 = maskedl1[1000][sunmask]\n",
    "sundiskmaksedl1 = np.mean([maskedl1[999][sunmask],maskedl1[1000][sunmask], maskedl1[1001][sunmask]],axis=0)\n",
    "xsundisk = np.linspace(-90, 90, len(sundiskmaksedl1))\n",
    "plt.plot( xsundisk, sundiskmaksedl1/np.max(sundiskmaksedl1))"
   ]
  },
  {
   "cell_type": "markdown",
   "metadata": {},
   "source": [
    "We can plot the function we need to fit for an arbitrary value for A and then fit. "
   ]
  },
  {
   "cell_type": "code",
   "execution_count": null,
   "metadata": {
    "collapsed": false
   },
   "outputs": [],
   "source": [
    "def limb(A, x):\n",
    "    return (1 +  A*(1 - np.cos(np.deg2rad(x))))\n",
    "plt.plot( xsundisk, limb(-.62, xsundisk))\n",
    "plt.plot( xsundisk, sundiskmaksedl1/np.max(sundiskmaksedl1))"
   ]
  },
  {
   "cell_type": "markdown",
   "metadata": {},
   "source": [
    "We see from the graph above that we can get a good fit of the value $ A = -0.62$"
   ]
  },
  {
   "cell_type": "code",
   "execution_count": null,
   "metadata": {
    "collapsed": true
   },
   "outputs": [],
   "source": []
  }
 ],
 "metadata": {
  "kernelspec": {
   "display_name": "Python 2",
   "language": "python",
   "name": "python2"
  },
  "language_info": {
   "codemirror_mode": {
    "name": "ipython",
    "version": 2
   },
   "file_extension": ".py",
   "mimetype": "text/x-python",
   "name": "python",
   "nbconvert_exporter": "python",
   "pygments_lexer": "ipython2",
   "version": "2.7.9"
  }
 },
 "nbformat": 4,
 "nbformat_minor": 0
}
